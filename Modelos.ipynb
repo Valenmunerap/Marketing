{
 "cells": [
  {
   "attachments": {},
   "cell_type": "markdown",
   "metadata": {},
   "source": [
    "Cargas librerías"
   ]
  },
  {
   "cell_type": "code",
   "execution_count": 26,
   "metadata": {},
   "outputs": [],
   "source": [
    "import numpy as np\n",
    "import pandas as pd\n",
    "import sqlite3 as sql\n",
    "from sklearn.preprocessing import MinMaxScaler\n",
    "from ipywidgets import interact ## para análisis interactivo\n",
    "from sklearn import neighbors ### basado en contenido un solo producto consumido\n",
    "from mlxtend.preprocessing import TransactionEncoder \n",
    "import re\n",
    "from surprise import Reader, Dataset\n",
    "from surprise.model_selection import cross_validate, GridSearchCV\n",
    "from surprise import KNNBasic, KNNWithMeans, KNNWithZScore, KNNBaseline\n",
    "from surprise.model_selection import train_test_split"
   ]
  },
  {
   "cell_type": "code",
   "execution_count": 27,
   "metadata": {},
   "outputs": [],
   "source": [
    "#### conectar_base_de_Datos\n",
    "conn=sql.connect('db_movies')\n",
    "cur=conn.cursor()"
   ]
  },
  {
   "cell_type": "code",
   "execution_count": 28,
   "metadata": {},
   "outputs": [
    {
     "data": {
      "text/plain": [
       "[('ratings',),\n",
       " ('movies',),\n",
       " ('usuarios_sel',),\n",
       " ('movies_sel',),\n",
       " ('ratings_final',),\n",
       " ('movies_final',),\n",
       " ('full_ratings',),\n",
       " ('reco',)]"
      ]
     },
     "execution_count": 28,
     "metadata": {},
     "output_type": "execute_result"
    }
   ],
   "source": [
    "#### ver tablas disponibles en base de datos ###\n",
    "\n",
    "cur.execute(\"SELECT name FROM sqlite_master WHERE type='table';\")\n",
    "cur.fetchall()"
   ]
  },
  {
   "attachments": {},
   "cell_type": "markdown",
   "metadata": {},
   "source": [
    "Sistema de recomendación basado en contenido un solo producto - Manual"
   ]
  },
  {
   "cell_type": "code",
   "execution_count": 29,
   "metadata": {},
   "outputs": [],
   "source": [
    "#Se crea tabla master\n",
    "movies=pd.read_sql('select * from movies_final', conn )"
   ]
  },
  {
   "cell_type": "code",
   "execution_count": 30,
   "metadata": {},
   "outputs": [
    {
     "name": "stdout",
     "output_type": "stream",
     "text": [
      "<class 'pandas.core.frame.DataFrame'>\n",
      "RangeIndex: 2441 entries, 0 to 2440\n",
      "Data columns (total 3 columns):\n",
      " #   Column   Non-Null Count  Dtype \n",
      "---  ------   --------------  ----- \n",
      " 0   movieId  2441 non-null   int64 \n",
      " 1   title    2441 non-null   object\n",
      " 2   genres   2441 non-null   object\n",
      "dtypes: int64(1), object(2)\n",
      "memory usage: 57.3+ KB\n"
     ]
    }
   ],
   "source": [
    "#Se realiza el .ifno para observar detalles de la tabla\n",
    "movies.info()"
   ]
  },
  {
   "cell_type": "code",
   "execution_count": 31,
   "metadata": {},
   "outputs": [],
   "source": [
    "# se convierte la columna genres en variables dummies\n",
    "genres=movies['genres'].str.split('|')\n",
    "\n",
    "te = TransactionEncoder()\n",
    "\n",
    "genres = te.fit_transform(genres)\n",
    "\n",
    "genres = pd.DataFrame(genres, columns = te.columns_)\n",
    "\n",
    "movies = pd.concat([movies, genres], axis=1).drop(columns=[\"genres\"])\n",
    "\n",
    "movies.iloc[:,2:]=movies.iloc[:,2:].astype(int)"
   ]
  },
  {
   "cell_type": "code",
   "execution_count": 32,
   "metadata": {},
   "outputs": [],
   "source": [
    "\n",
    "#Separar año del titulo\n",
    "regex = r\"\\([0-9]+\\)\"\n",
    "movies[\"year\"]=movies.title.apply(lambda x:re.search(regex, x).group(0).replace(\"(\",\"\").replace(\")\",\"\"))\n",
    "movies[\"title\"]=movies.title.apply(lambda x:re.sub(regex, \"\",x))"
   ]
  },
  {
   "cell_type": "code",
   "execution_count": 33,
   "metadata": {},
   "outputs": [
    {
     "name": "stdout",
     "output_type": "stream",
     "text": [
      "<class 'pandas.core.frame.DataFrame'>\n",
      "RangeIndex: 2441 entries, 0 to 2440\n",
      "Data columns (total 22 columns):\n",
      " #   Column       Non-Null Count  Dtype \n",
      "---  ------       --------------  ----- \n",
      " 0   movieId      2441 non-null   int64 \n",
      " 1   title        2441 non-null   object\n",
      " 2   Action       2441 non-null   int32 \n",
      " 3   Adventure    2441 non-null   int32 \n",
      " 4   Animation    2441 non-null   int32 \n",
      " 5   Children     2441 non-null   int32 \n",
      " 6   Comedy       2441 non-null   int32 \n",
      " 7   Crime        2441 non-null   int32 \n",
      " 8   Documentary  2441 non-null   int32 \n",
      " 9   Drama        2441 non-null   int32 \n",
      " 10  Fantasy      2441 non-null   int32 \n",
      " 11  Film-Noir    2441 non-null   int32 \n",
      " 12  Horror       2441 non-null   int32 \n",
      " 13  IMAX         2441 non-null   int32 \n",
      " 14  Musical      2441 non-null   int32 \n",
      " 15  Mystery      2441 non-null   int32 \n",
      " 16  Romance      2441 non-null   int32 \n",
      " 17  Sci-Fi       2441 non-null   int32 \n",
      " 18  Thriller     2441 non-null   int32 \n",
      " 19  War          2441 non-null   int32 \n",
      " 20  Western      2441 non-null   int32 \n",
      " 21  year         2441 non-null   int32 \n",
      "dtypes: int32(20), int64(1), object(1)\n",
      "memory usage: 229.0+ KB\n"
     ]
    }
   ],
   "source": [
    "movies['year']=movies.year.astype('int')\n",
    "movies.info()"
   ]
  },
  {
   "cell_type": "code",
   "execution_count": 34,
   "metadata": {},
   "outputs": [],
   "source": [
    "#Escalonar year\n",
    "movies['year']=movies.year.astype('int')\n",
    "sc=MinMaxScaler()\n",
    "movies[[\"year\"]]=sc.fit_transform(movies[['year']])"
   ]
  },
  {
   "cell_type": "code",
   "execution_count": 35,
   "metadata": {},
   "outputs": [],
   "source": [
    "#se agrga la columna titulo a la tabla genres y se escalona\n",
    "genres1= pd.get_dummies(movies,columns =['title'])\n",
    "genres1 = genres1.drop(columns=['movieId','year'])"
   ]
  },
  {
   "cell_type": "code",
   "execution_count": 36,
   "metadata": {},
   "outputs": [
    {
     "data": {
      "application/vnd.jupyter.widget-view+json": {
       "model_id": "800a8662bb2f4d58a436ab1ccb21d0a3",
       "version_major": 2,
       "version_minor": 0
      },
      "text/plain": [
       "interactive(children=(Dropdown(description='movie', options=('Toy Story ', 'Jumanji ', 'Grumpier Old Men ', 'F…"
      ]
     },
     "metadata": {},
     "output_type": "display_data"
    },
    {
     "name": "stdout",
     "output_type": "stream",
     "text": [
      "<function recomendacion at 0x0000023393684040>\n"
     ]
    }
   ],
   "source": [
    "def recomendacion(movie = list(movies['title'])):\n",
    "     \n",
    "    ind_movie=movies[movies['title']==movie].index.values.astype(int)[0]   \n",
    "    similar_movies = genres1.corrwith(genres1.iloc[ind_movie,:],axis=1)\n",
    "    similar_movies = similar_movies.sort_values(ascending=False)\n",
    "    top_similar_movies=similar_movies.to_frame(name=\"correlación\").iloc[0:10,]\n",
    "    top_similar_movies['title']=movies[\"title\"]\n",
    "    \n",
    "    return top_similar_movies\n",
    "\n",
    "\n",
    "print(interact(recomendacion))"
   ]
  },
  {
   "attachments": {},
   "cell_type": "markdown",
   "metadata": {},
   "source": [
    "Sistema de recomendación basado en contenido KNN un solo producto visto"
   ]
  },
  {
   "cell_type": "code",
   "execution_count": 46,
   "metadata": {},
   "outputs": [],
   "source": [
    "#Entrenar modelo\n",
    "model = neighbors.NearestNeighbors(n_neighbors=10, metric='cosine')\n",
    "model.fit(genres)\n",
    "dist, idlist = model.kneighbors(genres)\n",
    "\n",
    "distancias=pd.DataFrame(dist)\n",
    "id_list=pd.DataFrame(idlist)\n"
   ]
  },
  {
   "cell_type": "code",
   "execution_count": 48,
   "metadata": {},
   "outputs": [
    {
     "data": {
      "application/vnd.jupyter.widget-view+json": {
       "model_id": "d5e9fac37ce144e58ae1edbcc6e641a5",
       "version_major": 2,
       "version_minor": 0
      },
      "text/plain": [
       "interactive(children=(Dropdown(description='movie_name', options=('King Kong ', 'Cape Fear ', 'Parent Trap, Th…"
      ]
     },
     "metadata": {},
     "output_type": "display_data"
    },
    {
     "name": "stdout",
     "output_type": "stream",
     "text": [
      "<function BookRecommender at 0x00000233F3E458B0>\n"
     ]
    }
   ],
   "source": [
    "\n",
    "def BookRecommender(movie_name = list(movies['title'].value_counts().index)):\n",
    "    movie_list_name = []\n",
    "    movie_id = movies[movies['title'] == movie_name].index\n",
    "    movie_id = movie_id[0]\n",
    "    for newid in idlist[movie_id]:\n",
    "        movie_list_name.append(movies.loc[newid].title)\n",
    "    return movie_list_name\n",
    "\n",
    "\n",
    "\n",
    "print(interact(BookRecommender))"
   ]
  },
  {
   "attachments": {},
   "cell_type": "markdown",
   "metadata": {},
   "source": [
    "Sistema de recomendación basado en contenido KNN Con base en todo lo visto por el usuario"
   ]
  },
  {
   "cell_type": "code",
   "execution_count": 39,
   "metadata": {},
   "outputs": [],
   "source": [
    "#Se crea tabla con los usuarios\n",
    "usuarios=pd.read_sql('select distinct (userId) as userId from ratings_final',conn)"
   ]
  },
  {
   "cell_type": "code",
   "execution_count": 40,
   "metadata": {},
   "outputs": [],
   "source": [
    "#Se crea tabla donde se encuentran los rating para viasualizarlos\n",
    "full=pd.read_sql('select * from ratings_final', conn )"
   ]
  },
  {
   "cell_type": "code",
   "execution_count": 49,
   "metadata": {},
   "outputs": [
    {
     "data": {
      "application/vnd.jupyter.widget-view+json": {
       "model_id": "17806b16f69b4997807cb06560eb6f7b",
       "version_major": 2,
       "version_minor": 0
      },
      "text/plain": [
       "interactive(children=(Dropdown(description='user_id', options=(1, 401, 416, 415, 414, 413, 412, 411, 410, 409,…"
      ]
     },
     "metadata": {},
     "output_type": "display_data"
    },
    {
     "name": "stdout",
     "output_type": "stream",
     "text": [
      "<function recomendar at 0x00000233F3E45820>\n"
     ]
    }
   ],
   "source": [
    "def recomendar(user_id=list(usuarios['userId'].value_counts().index)):\n",
    "    \n",
    "    ###seleccionar solo los ratings del usuario seleccionado\n",
    "    ratings=pd.read_sql('select *from ratings_final where userId=:user',conn, params={'user':user_id})\n",
    "    ###convertir ratings del usuario a array\n",
    "    l_movies_r=ratings['movieId'].to_numpy()\n",
    "    \n",
    "    ###agregar la columna de isbn y titulo del libro a dummie para filtrar y mostrar nombre\n",
    "    genres1[['movieId','title']]=movies[['movieId','title']]\n",
    "    movies_r=genres1[genres1['movieId'].isin(l_movies_r)]\n",
    "    movies_r=movies_r.drop(columns=['movieId','title'])\n",
    "    movies_r[\"indice\"]=1 ### para usar group by y que quede en formato pandas tabla de centroide\n",
    "    centroide=movies_r.groupby(\"indice\").mean()\n",
    "    \n",
    "    \n",
    "    movies_nr=genres1[~genres1['movieId'].isin(l_movies_r)]\n",
    "    movies_nr=movies_nr.drop(columns=['movieId','title'])\n",
    "    model=neighbors.NearestNeighbors(n_neighbors=10, metric='cosine')\n",
    "    model.fit(movies_nr)\n",
    "    dist, idlist = model.kneighbors(centroide)\n",
    "    \n",
    "    ids=idlist[0]\n",
    "    recomend_b=movies.loc[ids][['title','movieId']]\n",
    "    vistos=movies[movies['movieId'].isin(l_movies_r)][['title','movieId']]\n",
    "    \n",
    "    return recomend_b\n",
    "\n",
    "\n",
    "recomendar(22)\n",
    "\n",
    "\n",
    "print(interact(recomendar))"
   ]
  },
  {
   "attachments": {},
   "cell_type": "markdown",
   "metadata": {},
   "source": [
    "Sistema de recomendación filtro colaborativo basado en usuario"
   ]
  },
  {
   "cell_type": "code",
   "execution_count": 42,
   "metadata": {},
   "outputs": [],
   "source": [
    "movies_final=pd.read_sql('select * from movies_final', conn)"
   ]
  },
  {
   "cell_type": "code",
   "execution_count": 43,
   "metadata": {},
   "outputs": [],
   "source": [
    "full.to_csv('././rating.csv', index=False)\n",
    "movies_final.to_csv('././movies_final.csv', index=False)"
   ]
  },
  {
   "cell_type": "code",
   "execution_count": 44,
   "metadata": {},
   "outputs": [
    {
     "name": "stdout",
     "output_type": "stream",
     "text": [
      "Computing the msd similarity matrix...\n",
      "Done computing similarity matrix.\n"
     ]
    }
   ],
   "source": [
    "ratings=pd.read_sql('select * from ratings_final', conn)\n",
    "pd.read_sql('select avg(rating) from ratings_final', conn) ## promedio de ratings\n",
    "###### leer datos desde tabla de pandas\n",
    "reader = Reader(rating_scale=(0, 5))\n",
    "\n",
    "###las columnas deben estar en orden estándar: user item rating\n",
    "data   = Dataset.load_from_df(ratings[['userId','movieId','rating']], reader)\n",
    "\n",
    "### los datos se pueden cargar desde un dataframe al formato que reciben las funciones de surprise\n",
    "\n",
    "#####Existen varios modelos \n",
    "\n",
    "models=[KNNBasic(),KNNWithMeans(),KNNWithZScore(),KNNBaseline()] \n",
    "results = {}\n",
    "\n",
    "###knnBasiscs: calcula el rating ponderando por distancia con usuario/Items\n",
    "###KnnWith means: en la ponderación se resta la media del rating, y al final se suma la media general\n",
    "####KnnwithZscores: estandariza el rating restando media y dividiendo por desviación \n",
    "####Knnbaseline: calculan el desvío de cada calificación con respecto al promedio y con base en esos calculan la ponderación\n",
    "\n",
    "\n",
    "\n",
    "for model in models:\n",
    " \n",
    "    CV_scores = cross_validate(model, data, measures=[\"MAE\",\"RMSE\"], cv=5, n_jobs=-1)  \n",
    "    result = pd.DataFrame.from_dict(CV_scores).mean(axis=0).\\\n",
    "             rename({'test_mae':'MAE', 'test_rmse': 'RMSE'})\n",
    "    results[str(model).split(\"algorithms.\")[1].split(\"object \")[0]] = result\n",
    "\n",
    "\n",
    "performance_df = pd.DataFrame.from_dict(results).T\n",
    "performance_df.sort_values(by='RMSE')\n",
    "\n",
    "\n",
    "param_grid = { 'sim_options' : {'name': ['msd','cosine'], \\\n",
    "                                'min_support': [5], \\\n",
    "                                'user_based': [False, True]}\n",
    "             }\n",
    "\n",
    "gridsearchKNNWithMeans = GridSearchCV(KNNWithMeans, param_grid, measures=['rmse'], \\\n",
    "                                      cv=2, n_jobs=2)\n",
    "                                    \n",
    "gridsearchKNNWithMeans.fit(data)\n",
    "\n",
    "\n",
    "gridsearchKNNWithMeans.best_params[\"rmse\"]\n",
    "gridsearchKNNWithMeans.best_score[\"rmse\"]\n",
    "gs_model=gridsearchKNNWithMeans.best_estimator['rmse'] ### mejor estimador de gridsearch\n",
    "\n",
    "\n",
    "################# Realizar predicciones\n",
    "\n",
    "trainset = data.build_full_trainset() ### esta función convierte todos los datos en entrnamiento\n",
    "model=gs_model.fit(trainset) ## se entrena sobre todos los datos posibles\n",
    "\n",
    "\n",
    "predset = trainset.build_anti_testset() ### crea una tabla con todos los usuarios y los libros que no han leido\n",
    "#### en la columna de rating pone el promedio de todos los rating, en caso de que no pueda calcularlo para un item-usuario\n",
    "\n",
    "predictions = model.test(predset) ### función muy pesada, hace las predicciones de rating para todos los libros que no hay leido un usuario\n",
    "### la funcion test recibe un test set constriuido con build_test method, o el que genera crosvalidate\n",
    "\n",
    "predictions_df = pd.DataFrame(predictions) ### esta tabla se puede llevar a una base donde estarán todas las predicciones\n",
    "predictions_df.shape\n",
    "predictions_df.head()\n",
    "predictions_df['r_ui'].unique() ### promedio de ratings\n",
    "predictions_df.sort_values(by='est',ascending=False)\n",
    "\n",
    "####### la predicción se puede hacer para un libro puntual\n",
    "model.predict(uid='31226', iid='0373825013',r_ui='2.42')\n",
    "\n",
    "##### funcion para recomendar los 10 libros con mejores predicciones y llevar base de datos para consultar resto de información\n",
    "def recomendaciones(user_id,n_recomend=10):\n",
    "    \n",
    "    predictions_userID = predictions_df[predictions_df['uid'] == user_id].\\\n",
    "                    sort_values(by=\"est\", ascending = False).head(n_recomend)\n",
    "\n",
    "    recomendados = predictions_userID[['iid','est']]\n",
    "    recomendados.to_sql('reco',conn,if_exists=\"replace\")\n",
    "    \n",
    "    recomendados=pd.read_sql('''select a.*, b.title \n",
    "                             from reco a left join movies_final b\n",
    "                             on a.iid=b.movieId ''', conn)\n",
    "\n",
    "    return(recomendados)\n",
    "\n",
    "\n",
    " \n"
   ]
  },
  {
   "cell_type": "code",
   "execution_count": 45,
   "metadata": {},
   "outputs": [
    {
     "data": {
      "text/html": [
       "<div>\n",
       "<style scoped>\n",
       "    .dataframe tbody tr th:only-of-type {\n",
       "        vertical-align: middle;\n",
       "    }\n",
       "\n",
       "    .dataframe tbody tr th {\n",
       "        vertical-align: top;\n",
       "    }\n",
       "\n",
       "    .dataframe thead th {\n",
       "        text-align: right;\n",
       "    }\n",
       "</style>\n",
       "<table border=\"1\" class=\"dataframe\">\n",
       "  <thead>\n",
       "    <tr style=\"text-align: right;\">\n",
       "      <th></th>\n",
       "      <th>index</th>\n",
       "      <th>iid</th>\n",
       "      <th>est</th>\n",
       "      <th>title</th>\n",
       "    </tr>\n",
       "  </thead>\n",
       "  <tbody>\n",
       "    <tr>\n",
       "      <th>0</th>\n",
       "      <td>43097</td>\n",
       "      <td>1178</td>\n",
       "      <td>3.578874</td>\n",
       "      <td>Paths of Glory (1957)</td>\n",
       "    </tr>\n",
       "    <tr>\n",
       "      <th>1</th>\n",
       "      <td>43053</td>\n",
       "      <td>1411</td>\n",
       "      <td>3.524280</td>\n",
       "      <td>Hamlet (1996)</td>\n",
       "    </tr>\n",
       "    <tr>\n",
       "      <th>2</th>\n",
       "      <td>41139</td>\n",
       "      <td>720</td>\n",
       "      <td>3.521931</td>\n",
       "      <td>Wallace &amp; Gromit: The Best of Aardman Animatio...</td>\n",
       "    </tr>\n",
       "    <tr>\n",
       "      <th>3</th>\n",
       "      <td>42498</td>\n",
       "      <td>1204</td>\n",
       "      <td>3.460435</td>\n",
       "      <td>Lawrence of Arabia (1962)</td>\n",
       "    </tr>\n",
       "    <tr>\n",
       "      <th>4</th>\n",
       "      <td>42454</td>\n",
       "      <td>8132</td>\n",
       "      <td>3.442947</td>\n",
       "      <td>Gladiator (1992)</td>\n",
       "    </tr>\n",
       "    <tr>\n",
       "      <th>5</th>\n",
       "      <td>42394</td>\n",
       "      <td>3836</td>\n",
       "      <td>3.408695</td>\n",
       "      <td>Kelly's Heroes (1970)</td>\n",
       "    </tr>\n",
       "    <tr>\n",
       "      <th>6</th>\n",
       "      <td>41211</td>\n",
       "      <td>1283</td>\n",
       "      <td>3.402682</td>\n",
       "      <td>High Noon (1952)</td>\n",
       "    </tr>\n",
       "    <tr>\n",
       "      <th>7</th>\n",
       "      <td>41878</td>\n",
       "      <td>71899</td>\n",
       "      <td>3.387552</td>\n",
       "      <td>Mary and Max (2009)</td>\n",
       "    </tr>\n",
       "    <tr>\n",
       "      <th>8</th>\n",
       "      <td>42391</td>\n",
       "      <td>3451</td>\n",
       "      <td>3.382355</td>\n",
       "      <td>Guess Who's Coming to Dinner (1967)</td>\n",
       "    </tr>\n",
       "    <tr>\n",
       "      <th>9</th>\n",
       "      <td>42518</td>\n",
       "      <td>1104</td>\n",
       "      <td>3.381802</td>\n",
       "      <td>Streetcar Named Desire, A (1951)</td>\n",
       "    </tr>\n",
       "  </tbody>\n",
       "</table>\n",
       "</div>"
      ],
      "text/plain": [
       "   index    iid       est                                              title\n",
       "0  43097   1178  3.578874                              Paths of Glory (1957)\n",
       "1  43053   1411  3.524280                                      Hamlet (1996)\n",
       "2  41139    720  3.521931  Wallace & Gromit: The Best of Aardman Animatio...\n",
       "3  42498   1204  3.460435                          Lawrence of Arabia (1962)\n",
       "4  42454   8132  3.442947                                   Gladiator (1992)\n",
       "5  42394   3836  3.408695                              Kelly's Heroes (1970)\n",
       "6  41211   1283  3.402682                                   High Noon (1952)\n",
       "7  41878  71899  3.387552                                Mary and Max (2009)\n",
       "8  42391   3451  3.382355                Guess Who's Coming to Dinner (1967)\n",
       "9  42518   1104  3.381802                   Streetcar Named Desire, A (1951)"
      ]
     },
     "execution_count": 45,
     "metadata": {},
     "output_type": "execute_result"
    }
   ],
   "source": [
    "us1=recomendaciones(user_id=22,n_recomend=10)\n",
    "us1"
   ]
  }
 ],
 "metadata": {
  "kernelspec": {
   "display_name": "base",
   "language": "python",
   "name": "python3"
  },
  "language_info": {
   "codemirror_mode": {
    "name": "ipython",
    "version": 3
   },
   "file_extension": ".py",
   "mimetype": "text/x-python",
   "name": "python",
   "nbconvert_exporter": "python",
   "pygments_lexer": "ipython3",
   "version": "3.9.7"
  },
  "orig_nbformat": 4,
  "vscode": {
   "interpreter": {
    "hash": "565ae4e31b403a3ff4536dcbf23d63783ad42e19afcbf11388cd800ba0d52d07"
   }
  }
 },
 "nbformat": 4,
 "nbformat_minor": 2
}
