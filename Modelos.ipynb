{
 "cells": [
  {
   "attachments": {},
   "cell_type": "markdown",
   "metadata": {},
   "source": [
    "Cargas librerías"
   ]
  },
  {
   "cell_type": "code",
   "execution_count": 16,
   "metadata": {},
   "outputs": [
    {
     "name": "stdout",
     "output_type": "stream",
     "text": [
      "Requirement already satisfied: mlxtend in c:\\users\\daniela\\appdata\\local\\programs\\python\\python310\\lib\\site-packages (0.21.0)\n",
      "Requirement already satisfied: scikit-learn>=1.0.2 in c:\\users\\daniela\\appdata\\local\\programs\\python\\python310\\lib\\site-packages (from mlxtend) (1.1.1)\n",
      "Requirement already satisfied: pandas>=0.24.2 in c:\\users\\daniela\\appdata\\local\\programs\\python\\python310\\lib\\site-packages (from mlxtend) (1.4.2)\n",
      "Requirement already satisfied: matplotlib>=3.0.0 in c:\\users\\daniela\\appdata\\local\\programs\\python\\python310\\lib\\site-packages (from mlxtend) (3.5.2)\n",
      "Requirement already satisfied: joblib>=0.13.2 in c:\\users\\daniela\\appdata\\local\\programs\\python\\python310\\lib\\site-packages (from mlxtend) (1.2.0)\n",
      "Requirement already satisfied: scipy>=1.2.1 in c:\\users\\daniela\\appdata\\local\\programs\\python\\python310\\lib\\site-packages (from mlxtend) (1.8.0)\n",
      "Requirement already satisfied: setuptools in c:\\users\\daniela\\appdata\\local\\programs\\python\\python310\\lib\\site-packages (from mlxtend) (58.1.0)\n",
      "Requirement already satisfied: numpy>=1.16.2 in c:\\users\\daniela\\appdata\\local\\programs\\python\\python310\\lib\\site-packages (from mlxtend) (1.22.3)\n",
      "Requirement already satisfied: packaging>=20.0 in c:\\users\\daniela\\appdata\\local\\programs\\python\\python310\\lib\\site-packages (from matplotlib>=3.0.0->mlxtend) (21.3)\n",
      "Requirement already satisfied: pyparsing>=2.2.1 in c:\\users\\daniela\\appdata\\local\\programs\\python\\python310\\lib\\site-packages (from matplotlib>=3.0.0->mlxtend) (3.0.9)\n",
      "Requirement already satisfied: cycler>=0.10 in c:\\users\\daniela\\appdata\\local\\programs\\python\\python310\\lib\\site-packages (from matplotlib>=3.0.0->mlxtend) (0.11.0)\n",
      "Requirement already satisfied: python-dateutil>=2.7 in c:\\users\\daniela\\appdata\\local\\programs\\python\\python310\\lib\\site-packages (from matplotlib>=3.0.0->mlxtend) (2.8.2)\n",
      "Requirement already satisfied: pillow>=6.2.0 in c:\\users\\daniela\\appdata\\local\\programs\\python\\python310\\lib\\site-packages (from matplotlib>=3.0.0->mlxtend) (9.1.0)\n",
      "Requirement already satisfied: fonttools>=4.22.0 in c:\\users\\daniela\\appdata\\local\\programs\\python\\python310\\lib\\site-packages (from matplotlib>=3.0.0->mlxtend) (4.33.3)\n",
      "Requirement already satisfied: kiwisolver>=1.0.1 in c:\\users\\daniela\\appdata\\local\\programs\\python\\python310\\lib\\site-packages (from matplotlib>=3.0.0->mlxtend) (1.4.2)\n",
      "Requirement already satisfied: pytz>=2020.1 in c:\\users\\daniela\\appdata\\local\\programs\\python\\python310\\lib\\site-packages (from pandas>=0.24.2->mlxtend) (2022.1)\n",
      "Requirement already satisfied: threadpoolctl>=2.0.0 in c:\\users\\daniela\\appdata\\local\\programs\\python\\python310\\lib\\site-packages (from scikit-learn>=1.0.2->mlxtend) (3.1.0)\n",
      "Requirement already satisfied: six>=1.5 in c:\\users\\daniela\\appdata\\local\\programs\\python\\python310\\lib\\site-packages (from python-dateutil>=2.7->matplotlib>=3.0.0->mlxtend) (1.16.0)\n"
     ]
    }
   ],
   "source": [
    "! pip install mlxtend"
   ]
  },
  {
   "cell_type": "code",
   "execution_count": 17,
   "metadata": {},
   "outputs": [],
   "source": [
    "import numpy as np\n",
    "import pandas as pd\n",
    "import sqlite3 as sql\n",
    "from sklearn.preprocessing import MinMaxScaler\n",
    "from ipywidgets import interact ## para análisis interactivo\n",
    "from sklearn import neighbors ### basado en contenido un solo producto consumido\n",
    "from mlxtend.preprocessing import TransactionEncoder \n",
    "import re"
   ]
  },
  {
   "cell_type": "code",
   "execution_count": 18,
   "metadata": {},
   "outputs": [],
   "source": [
    "#### conectar_base_de_Datos\n",
    "\n",
    "conn=sql.connect('db_movies')\n",
    "cur=conn.cursor()"
   ]
  },
  {
   "cell_type": "code",
   "execution_count": 19,
   "metadata": {},
   "outputs": [
    {
     "data": {
      "text/plain": [
       "[('ratings',),\n",
       " ('movies',),\n",
       " ('usuarios_sel',),\n",
       " ('movies_sel',),\n",
       " ('ratings_final',),\n",
       " ('movies_final',),\n",
       " ('full_ratings',)]"
      ]
     },
     "execution_count": 19,
     "metadata": {},
     "output_type": "execute_result"
    }
   ],
   "source": [
    "#### ver tablas disponibles en base de datos ###\n",
    "\n",
    "cur.execute(\"SELECT name FROM sqlite_master WHERE type='table';\")\n",
    "cur.fetchall()"
   ]
  },
  {
   "attachments": {},
   "cell_type": "markdown",
   "metadata": {},
   "source": [
    "Sistema de recomendación basado en contenido un solo producto - Manual"
   ]
  },
  {
   "cell_type": "code",
   "execution_count": 42,
   "metadata": {},
   "outputs": [],
   "source": [
    "#Se crea tabla master\n",
    "movies=pd.read_sql('select * from movies_final', conn )"
   ]
  },
  {
   "cell_type": "code",
   "execution_count": 43,
   "metadata": {},
   "outputs": [
    {
     "name": "stdout",
     "output_type": "stream",
     "text": [
      "<class 'pandas.core.frame.DataFrame'>\n",
      "RangeIndex: 2441 entries, 0 to 2440\n",
      "Data columns (total 3 columns):\n",
      " #   Column   Non-Null Count  Dtype \n",
      "---  ------   --------------  ----- \n",
      " 0   movieId  2441 non-null   int64 \n",
      " 1   title    2441 non-null   object\n",
      " 2   genres   2441 non-null   object\n",
      "dtypes: int64(1), object(2)\n",
      "memory usage: 57.3+ KB\n"
     ]
    }
   ],
   "source": [
    "#Se realiza el .ifno para observar detalles de la tabla\n",
    "movies.info()"
   ]
  },
  {
   "cell_type": "code",
   "execution_count": 44,
   "metadata": {},
   "outputs": [],
   "source": [
    "# se convierte la columna genres en variables dummies\n",
    "genres=movies['genres'].str.split('|')\n",
    "\n",
    "te = TransactionEncoder()\n",
    "\n",
    "genres = te.fit_transform(genres)\n",
    "\n",
    "genres = pd.DataFrame(genres, columns = te.columns_)\n",
    "\n",
    "movies = pd.concat([movies, genres], axis=1).drop(columns=[\"genres\"])\n",
    "\n",
    "movies.iloc[:,2:]=movies.iloc[:,2:].astype(int)"
   ]
  },
  {
   "cell_type": "code",
   "execution_count": 45,
   "metadata": {},
   "outputs": [],
   "source": [
    "\n",
    "#Separar año del titulo\n",
    "regex = r\"\\([0-9]+\\)\"\n",
    "movies[\"year\"]=movies.title.apply(lambda x:re.search(regex, x).group(0).replace(\"(\",\"\").replace(\")\",\"\"))\n",
    "movies[\"title\"]=movies.title.apply(lambda x:re.sub(regex, \"\",x))"
   ]
  },
  {
   "cell_type": "code",
   "execution_count": 46,
   "metadata": {},
   "outputs": [
    {
     "name": "stdout",
     "output_type": "stream",
     "text": [
      "<class 'pandas.core.frame.DataFrame'>\n",
      "RangeIndex: 2441 entries, 0 to 2440\n",
      "Data columns (total 22 columns):\n",
      " #   Column       Non-Null Count  Dtype \n",
      "---  ------       --------------  ----- \n",
      " 0   movieId      2441 non-null   int64 \n",
      " 1   title        2441 non-null   object\n",
      " 2   Action       2441 non-null   int32 \n",
      " 3   Adventure    2441 non-null   int32 \n",
      " 4   Animation    2441 non-null   int32 \n",
      " 5   Children     2441 non-null   int32 \n",
      " 6   Comedy       2441 non-null   int32 \n",
      " 7   Crime        2441 non-null   int32 \n",
      " 8   Documentary  2441 non-null   int32 \n",
      " 9   Drama        2441 non-null   int32 \n",
      " 10  Fantasy      2441 non-null   int32 \n",
      " 11  Film-Noir    2441 non-null   int32 \n",
      " 12  Horror       2441 non-null   int32 \n",
      " 13  IMAX         2441 non-null   int32 \n",
      " 14  Musical      2441 non-null   int32 \n",
      " 15  Mystery      2441 non-null   int32 \n",
      " 16  Romance      2441 non-null   int32 \n",
      " 17  Sci-Fi       2441 non-null   int32 \n",
      " 18  Thriller     2441 non-null   int32 \n",
      " 19  War          2441 non-null   int32 \n",
      " 20  Western      2441 non-null   int32 \n",
      " 21  year         2441 non-null   int32 \n",
      "dtypes: int32(20), int64(1), object(1)\n",
      "memory usage: 229.0+ KB\n"
     ]
    }
   ],
   "source": [
    "movies['year']=movies.year.astype('int')\n",
    "movies.info()"
   ]
  },
  {
   "cell_type": "code",
   "execution_count": 48,
   "metadata": {},
   "outputs": [],
   "source": [
    "#Escalonar year\n",
    "movies['year']=movies.year.astype('int')\n",
    "sc=MinMaxScaler()\n",
    "movies[[\"year\"]]=sc.fit_transform(movies[['year']])"
   ]
  },
  {
   "cell_type": "code",
   "execution_count": 62,
   "metadata": {},
   "outputs": [],
   "source": [
    "#se agrga la columna titulo a la tabla genres y se escalona\n",
    "genres1= pd.get_dummies(movies,columns =['title'])\n",
    "genres1 = genres1.drop(columns=['movieId','year'])"
   ]
  },
  {
   "cell_type": "code",
   "execution_count": 66,
   "metadata": {},
   "outputs": [
    {
     "data": {
      "application/vnd.jupyter.widget-view+json": {
       "model_id": "0377ff2169c3451582cfc2285dbb7c64",
       "version_major": 2,
       "version_minor": 0
      },
      "text/plain": [
       "interactive(children=(Dropdown(description='movie', options=('Toy Story ', 'Jumanji ', 'Grumpier Old Men ', 'F…"
      ]
     },
     "metadata": {},
     "output_type": "display_data"
    },
    {
     "name": "stdout",
     "output_type": "stream",
     "text": [
      "<function recomendacion at 0x0000017D9D012DD0>\n"
     ]
    }
   ],
   "source": [
    "def recomendacion(movie = list(movies['title'])):\n",
    "     \n",
    "    ind_movie=movies[movies['title']==movie].index.values.astype(int)[0]   \n",
    "    similar_movies = genres1.corrwith(genres1.iloc[ind_movie,:],axis=1)\n",
    "    similar_movies = similar_movies.sort_values(ascending=False)\n",
    "    top_similar_movies=similar_movies.to_frame(name=\"correlación\").iloc[0:11,]\n",
    "    top_similar_movies['title']=movies[\"title\"]\n",
    "    \n",
    "    return top_similar_movies\n",
    "\n",
    "\n",
    "print(interact(recomendacion))"
   ]
  },
  {
   "attachments": {},
   "cell_type": "markdown",
   "metadata": {},
   "source": [
    "Sistema de recomendación basado en contenido KNN un solo producto visto"
   ]
  },
  {
   "cell_type": "code",
   "execution_count": 70,
   "metadata": {},
   "outputs": [],
   "source": [
    "#Entrenar modelo\n",
    "model = neighbors.NearestNeighbors(n_neighbors=11, metric='cosine')\n",
    "model.fit(genres)\n",
    "dist, idlist = model.kneighbors(genres)\n",
    "\n",
    "distancias=pd.DataFrame(dist)\n",
    "id_list=pd.DataFrame(idlist)\n"
   ]
  },
  {
   "cell_type": "code",
   "execution_count": 74,
   "metadata": {},
   "outputs": [
    {
     "data": {
      "application/vnd.jupyter.widget-view+json": {
       "model_id": "642128ef344d4901b54f994e84e7164f",
       "version_major": 2,
       "version_minor": 0
      },
      "text/plain": [
       "interactive(children=(Dropdown(description='movie_name', options=('King Kong ', 'Cape Fear ', 'Parent Trap, Th…"
      ]
     },
     "metadata": {},
     "output_type": "display_data"
    },
    {
     "name": "stdout",
     "output_type": "stream",
     "text": [
      "<function BookRecommender at 0x0000017D9E24F910>\n"
     ]
    }
   ],
   "source": [
    "\n",
    "def BookRecommender(movie_name = list(movies['title'].value_counts().index)):\n",
    "    movie_list_name = []\n",
    "    movie_id = movies[movies['title'] == movie_name].index\n",
    "    movie_id = movie_id[0]\n",
    "    for newid in idlist[movie_id]:\n",
    "        movie_list_name.append(movies.loc[newid].title)\n",
    "    return movie_list_name\n",
    "\n",
    "\n",
    "\n",
    "print(interact(BookRecommender))"
   ]
  },
  {
   "cell_type": "code",
   "execution_count": 80,
   "metadata": {},
   "outputs": [],
   "source": [
    "usuarios=pd.read_sql('select distinct (userId) as userId from ratings_final',conn)"
   ]
  },
  {
   "cell_type": "code",
   "execution_count": 82,
   "metadata": {},
   "outputs": [
    {
     "data": {
      "text/html": [
       "<div>\n",
       "<style scoped>\n",
       "    .dataframe tbody tr th:only-of-type {\n",
       "        vertical-align: middle;\n",
       "    }\n",
       "\n",
       "    .dataframe tbody tr th {\n",
       "        vertical-align: top;\n",
       "    }\n",
       "\n",
       "    .dataframe thead th {\n",
       "        text-align: right;\n",
       "    }\n",
       "</style>\n",
       "<table border=\"1\" class=\"dataframe\">\n",
       "  <thead>\n",
       "    <tr style=\"text-align: right;\">\n",
       "      <th></th>\n",
       "      <th>userId</th>\n",
       "    </tr>\n",
       "  </thead>\n",
       "  <tbody>\n",
       "    <tr>\n",
       "      <th>0</th>\n",
       "      <td>1</td>\n",
       "    </tr>\n",
       "    <tr>\n",
       "      <th>1</th>\n",
       "      <td>3</td>\n",
       "    </tr>\n",
       "    <tr>\n",
       "      <th>2</th>\n",
       "      <td>4</td>\n",
       "    </tr>\n",
       "    <tr>\n",
       "      <th>3</th>\n",
       "      <td>5</td>\n",
       "    </tr>\n",
       "    <tr>\n",
       "      <th>4</th>\n",
       "      <td>6</td>\n",
       "    </tr>\n",
       "    <tr>\n",
       "      <th>...</th>\n",
       "      <td>...</td>\n",
       "    </tr>\n",
       "    <tr>\n",
       "      <th>460</th>\n",
       "      <td>606</td>\n",
       "    </tr>\n",
       "    <tr>\n",
       "      <th>461</th>\n",
       "      <td>607</td>\n",
       "    </tr>\n",
       "    <tr>\n",
       "      <th>462</th>\n",
       "      <td>608</td>\n",
       "    </tr>\n",
       "    <tr>\n",
       "      <th>463</th>\n",
       "      <td>609</td>\n",
       "    </tr>\n",
       "    <tr>\n",
       "      <th>464</th>\n",
       "      <td>610</td>\n",
       "    </tr>\n",
       "  </tbody>\n",
       "</table>\n",
       "<p>465 rows × 1 columns</p>\n",
       "</div>"
      ],
      "text/plain": [
       "     userId\n",
       "0         1\n",
       "1         3\n",
       "2         4\n",
       "3         5\n",
       "4         6\n",
       "..      ...\n",
       "460     606\n",
       "461     607\n",
       "462     608\n",
       "463     609\n",
       "464     610\n",
       "\n",
       "[465 rows x 1 columns]"
      ]
     },
     "execution_count": 82,
     "metadata": {},
     "output_type": "execute_result"
    }
   ],
   "source": [
    "usuarios"
   ]
  },
  {
   "cell_type": "code",
   "execution_count": null,
   "metadata": {},
   "outputs": [],
   "source": [
    "full=pd.read_sql('select * from movies_final', conn )"
   ]
  },
  {
   "cell_type": "code",
   "execution_count": null,
   "metadata": {},
   "outputs": [],
   "source": [
    "def recomendar(user_id=list(usuarios['userId'].value_counts().index)):\n",
    "    \n",
    "    ratings=pd.read_sql('select *from ratings_final where user_id=:user',conn, params={'user':user_id})\n",
    "    l_books_r=ratings['isbn'].to_numpy()\n",
    "    genres1[['rating','title']]=[['isbn','book_title']]\n",
    "    books_r=books_dum2[books_dum2['isbn'].isin(l_books_r)]\n",
    "    books_r=books_r.drop(columns=['isbn','book_title'])\n",
    "    books_r[\"indice\"]=1 ### para usar group by y que quede en formato pandas tabla de centroide\n",
    "    centroide=books_r.groupby(\"indice\").mean()\n",
    "    \n",
    "    \n",
    "    books_nr=books_dum2[~books_dum2['isbn'].isin(l_books_r)]\n",
    "    books_nr=books_nr.drop(columns=['isbn','book_title'])\n",
    "    model=neighbors.NearestNeighbors(n_neighbors=11, metric='cosine')\n",
    "    model.fit(books_nr)\n",
    "    dist, idlist = model.kneighbors(centroide)\n",
    "    \n",
    "    ids=idlist[0]\n",
    "    recomend_b=books.loc[ids][['book_title','isbn']]\n",
    "    leidos=books[books['isbn'].isin(l_books_r)][['book_title','isbn']]\n",
    "    \n",
    "    return recomend_b\n",
    "\n",
    "recomendar(52853)\n",
    "\n",
    "\n",
    "print(interact(recomendar))"
   ]
  }
 ],
 "metadata": {
  "kernelspec": {
   "display_name": "Python 3",
   "language": "python",
   "name": "python3"
  },
  "language_info": {
   "codemirror_mode": {
    "name": "ipython",
    "version": 3
   },
   "file_extension": ".py",
   "mimetype": "text/x-python",
   "name": "python",
   "nbconvert_exporter": "python",
   "pygments_lexer": "ipython3",
   "version": "3.10.4"
  },
  "orig_nbformat": 4
 },
 "nbformat": 4,
 "nbformat_minor": 2
}
